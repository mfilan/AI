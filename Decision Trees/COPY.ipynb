{
 "cells": [
  {
   "cell_type": "code",
   "execution_count": 3,
   "metadata": {
    "jupyter": {
     "outputs_hidden": true
    }
   },
   "outputs": [],
   "source": [
    "import numpy as np\n",
    "import math\n",
    "import matplotlib.pyplot as plt\n",
    "import pandas as pd\n",
    "import common as cm"
   ]
  },
  {
   "cell_type": "markdown",
   "metadata": {},
   "source": [
    "# Part 1: Information Gain"
   ]
  },
  {
   "cell_type": "markdown",
   "metadata": {},
   "source": [
    "Important note: this exercise uses Pandas (for data manipulation and analysis) and Graphviz (for graph-drawing) libraries. "
   ]
  },
  {
   "cell_type": "markdown",
   "metadata": {},
   "source": [
    "This exercise consists of 3 parts. Complete the first part to get a mark of 3.0, the first two parts to get 4.0, complete all assignments to get 5.0. "
   ]
  },
  {
   "cell_type": "markdown",
   "metadata": {},
   "source": [
    "1.1 ) There are 10 objects (data) characterized with 5 binary attributes:"
   ]
  },
  {
   "cell_type": "code",
   "execution_count": 4,
   "metadata": {
    "jupyter": {
     "outputs_hidden": true
    }
   },
   "outputs": [],
   "source": [
    "attributeNames = [\"attr 1\", \"attr 2\", \"attr 3\", \"attr 4\", \"attr 5\"]\n",
    "\n",
    "data = pd.DataFrame(\n",
    "    [\n",
    "        [1, 0, 1, 1, 1],\n",
    "        [1, 1, 0, 0, 1],\n",
    "        [0, 1, 1, 1, 1],\n",
    "        [1, 0, 1, 0, 1],\n",
    "        [1, 0, 0, 1, 1],\n",
    "        [0, 0, 1, 1, 1],\n",
    "        [1, 1, 1, 1, 1],\n",
    "        [1, 0, 0, 1, 1],\n",
    "        [0, 1, 0, 0, 1],\n",
    "        [0, 0, 0, 1, 1],\n",
    "    ],\n",
    "    columns=attributeNames,\n",
    ")"
   ]
  },
  {
   "cell_type": "markdown",
   "metadata": {},
   "source": [
    "1.2) Each object is assigned to either a class \"0\" or \"1\". The assignments are as follows (cl):"
   ]
  },
  {
   "cell_type": "code",
   "execution_count": 5,
   "metadata": {
    "jupyter": {
     "outputs_hidden": true
    }
   },
   "outputs": [],
   "source": [
    "data[\"cl\"] = [1, 1, 1, 0, 0, 1, 1, 1, 0, 0]"
   ]
  },
  {
   "cell_type": "markdown",
   "metadata": {},
   "source": [
    "Hint: How one can read data (columns) in Pandas:"
   ]
  },
  {
   "cell_type": "code",
   "execution_count": 6,
   "metadata": {
    "jupyter": {
     "outputs_hidden": true
    }
   },
   "outputs": [
    {
     "name": "stdout",
     "output_type": "stream",
     "text": [
      "0    1\n",
      "1    1\n",
      "2    1\n",
      "3    0\n",
      "4    0\n",
      "5    1\n",
      "6    1\n",
      "7    1\n",
      "8    0\n",
      "9    0\n",
      "Name: cl, dtype: int64\n",
      "[1, 1, 1, 0, 0, 1, 1, 1, 0, 0]\n",
      "{0, 1}\n",
      "0    1\n",
      "1    1\n",
      "2    0\n",
      "3    1\n",
      "4    1\n",
      "5    0\n",
      "6    1\n",
      "7    1\n",
      "8    0\n",
      "9    0\n",
      "Name: attr 1, dtype: int64\n"
     ]
    }
   ],
   "source": [
    "print(data[\"cl\"])\n",
    "print(list(data[\"cl\"]))\n",
    "print(set(data[\"cl\"]))\n",
    "print(data[\"attr 1\"])"
   ]
  },
  {
   "cell_type": "markdown",
   "metadata": {},
   "source": [
    "Hint: How split data (Pandas DataFrame) base on column:"
   ]
  },
  {
   "cell_type": "code",
   "execution_count": 7,
   "metadata": {},
   "outputs": [
    {
     "data": {
      "text/html": [
       "<div>\n",
       "<style scoped>\n",
       "    .dataframe tbody tr th:only-of-type {\n",
       "        vertical-align: middle;\n",
       "    }\n",
       "\n",
       "    .dataframe tbody tr th {\n",
       "        vertical-align: top;\n",
       "    }\n",
       "\n",
       "    .dataframe thead th {\n",
       "        text-align: right;\n",
       "    }\n",
       "</style>\n",
       "<table border=\"1\" class=\"dataframe\">\n",
       "  <thead>\n",
       "    <tr style=\"text-align: right;\">\n",
       "      <th></th>\n",
       "      <th>attr 1</th>\n",
       "      <th>attr 2</th>\n",
       "      <th>attr 3</th>\n",
       "      <th>attr 4</th>\n",
       "      <th>attr 5</th>\n",
       "      <th>cl</th>\n",
       "    </tr>\n",
       "  </thead>\n",
       "  <tbody>\n",
       "    <tr>\n",
       "      <th>3</th>\n",
       "      <td>1</td>\n",
       "      <td>0</td>\n",
       "      <td>1</td>\n",
       "      <td>0</td>\n",
       "      <td>1</td>\n",
       "      <td>0</td>\n",
       "    </tr>\n",
       "    <tr>\n",
       "      <th>4</th>\n",
       "      <td>1</td>\n",
       "      <td>0</td>\n",
       "      <td>0</td>\n",
       "      <td>1</td>\n",
       "      <td>1</td>\n",
       "      <td>0</td>\n",
       "    </tr>\n",
       "    <tr>\n",
       "      <th>8</th>\n",
       "      <td>0</td>\n",
       "      <td>1</td>\n",
       "      <td>0</td>\n",
       "      <td>0</td>\n",
       "      <td>1</td>\n",
       "      <td>0</td>\n",
       "    </tr>\n",
       "    <tr>\n",
       "      <th>9</th>\n",
       "      <td>0</td>\n",
       "      <td>0</td>\n",
       "      <td>0</td>\n",
       "      <td>1</td>\n",
       "      <td>1</td>\n",
       "      <td>0</td>\n",
       "    </tr>\n",
       "  </tbody>\n",
       "</table>\n",
       "</div>"
      ],
      "text/plain": [
       "   attr 1  attr 2  attr 3  attr 4  attr 5  cl\n",
       "3       1       0       1       0       1   0\n",
       "4       1       0       0       1       1   0\n",
       "8       0       1       0       0       1   0\n",
       "9       0       0       0       1       1   0"
      ]
     },
     "execution_count": 7,
     "metadata": {},
     "output_type": "execute_result"
    }
   ],
   "source": [
    "data[data['cl']==0]\n",
    "\n"
   ]
  },
  {
   "cell_type": "code",
   "execution_count": 8,
   "metadata": {},
   "outputs": [
    {
     "data": {
      "text/html": [
       "<div>\n",
       "<style scoped>\n",
       "    .dataframe tbody tr th:only-of-type {\n",
       "        vertical-align: middle;\n",
       "    }\n",
       "\n",
       "    .dataframe tbody tr th {\n",
       "        vertical-align: top;\n",
       "    }\n",
       "\n",
       "    .dataframe thead th {\n",
       "        text-align: right;\n",
       "    }\n",
       "</style>\n",
       "<table border=\"1\" class=\"dataframe\">\n",
       "  <thead>\n",
       "    <tr style=\"text-align: right;\">\n",
       "      <th></th>\n",
       "      <th>attr 1</th>\n",
       "      <th>attr 2</th>\n",
       "      <th>attr 3</th>\n",
       "      <th>attr 4</th>\n",
       "      <th>attr 5</th>\n",
       "      <th>cl</th>\n",
       "    </tr>\n",
       "  </thead>\n",
       "  <tbody>\n",
       "    <tr>\n",
       "      <th>0</th>\n",
       "      <td>1</td>\n",
       "      <td>0</td>\n",
       "      <td>1</td>\n",
       "      <td>1</td>\n",
       "      <td>1</td>\n",
       "      <td>1</td>\n",
       "    </tr>\n",
       "    <tr>\n",
       "      <th>1</th>\n",
       "      <td>1</td>\n",
       "      <td>1</td>\n",
       "      <td>0</td>\n",
       "      <td>0</td>\n",
       "      <td>1</td>\n",
       "      <td>1</td>\n",
       "    </tr>\n",
       "    <tr>\n",
       "      <th>2</th>\n",
       "      <td>0</td>\n",
       "      <td>1</td>\n",
       "      <td>1</td>\n",
       "      <td>1</td>\n",
       "      <td>1</td>\n",
       "      <td>1</td>\n",
       "    </tr>\n",
       "    <tr>\n",
       "      <th>5</th>\n",
       "      <td>0</td>\n",
       "      <td>0</td>\n",
       "      <td>1</td>\n",
       "      <td>1</td>\n",
       "      <td>1</td>\n",
       "      <td>1</td>\n",
       "    </tr>\n",
       "    <tr>\n",
       "      <th>6</th>\n",
       "      <td>1</td>\n",
       "      <td>1</td>\n",
       "      <td>1</td>\n",
       "      <td>1</td>\n",
       "      <td>1</td>\n",
       "      <td>1</td>\n",
       "    </tr>\n",
       "    <tr>\n",
       "      <th>7</th>\n",
       "      <td>1</td>\n",
       "      <td>0</td>\n",
       "      <td>0</td>\n",
       "      <td>1</td>\n",
       "      <td>1</td>\n",
       "      <td>1</td>\n",
       "    </tr>\n",
       "  </tbody>\n",
       "</table>\n",
       "</div>"
      ],
      "text/plain": [
       "   attr 1  attr 2  attr 3  attr 4  attr 5  cl\n",
       "0       1       0       1       1       1   1\n",
       "1       1       1       0       0       1   1\n",
       "2       0       1       1       1       1   1\n",
       "5       0       0       1       1       1   1\n",
       "6       1       1       1       1       1   1\n",
       "7       1       0       0       1       1   1"
      ]
     },
     "execution_count": 8,
     "metadata": {},
     "output_type": "execute_result"
    }
   ],
   "source": [
    "data[data['cl']==1]"
   ]
  },
  {
   "cell_type": "markdown",
   "metadata": {},
   "source": [
    "Hint: How take values from column (Pandas Series):"
   ]
  },
  {
   "cell_type": "code",
   "execution_count": 9,
   "metadata": {},
   "outputs": [
    {
     "name": "stdout",
     "output_type": "stream",
     "text": [
      "0 1\n",
      "1 1\n",
      "2 1\n",
      "3 0\n",
      "4 0\n",
      "5 1\n",
      "6 1\n",
      "7 1\n",
      "8 0\n",
      "9 0\n"
     ]
    }
   ],
   "source": [
    "for id, row in data['cl'].items():\n",
    "    print(id,row)"
   ]
  },
  {
   "cell_type": "markdown",
   "metadata": {},
   "source": [
    "1.3 )  Finish the below function for calculating entropy. $H(CL) = - \\sum_{y \\in CL}p(y)log_2p(y)$ It should return a value of entropy for an input vector CL. Assume that $log_2(0)$ is equal to 0."
   ]
  },
  {
   "cell_type": "code",
   "execution_count": 10,
   "metadata": {
    "jupyter": {
     "outputs_hidden": true
    }
   },
   "outputs": [],
   "source": [
    "def getnumber(cl):\n",
    "    p0 = 0\n",
    "    p1 = 0\n",
    "    for id, row in cl.items():\n",
    "        if row == 0:\n",
    "            p0 += 1\n",
    "        else:\n",
    "            p1 += 1\n",
    "#     print(p0,p1)\n",
    "    return p0,p1\n",
    "\n",
    "def getEntropy(cl,p0,p1):\n",
    "    if isinstance(cl, int):\n",
    "        length = cl\n",
    "    else:\n",
    "        length = len(cl)\n",
    "#     print(cl)\n",
    "    if length == 0:\n",
    "        return 0\n",
    "    if p0/length == 0 :\n",
    "        return -((p0/length)*0)-((p1/length)*math.log2(p1/length))\n",
    "    if p1/length == 0:\n",
    "         return -((p0/length)*math.log2(p0/length))-((p1/length)*0)\n",
    "    return -((p0/length)*math.log2(p0/length))-((p1/length)*math.log2(p1/length))"
   ]
  },
  {
   "cell_type": "markdown",
   "metadata": {},
   "source": [
    "1.4 ) Calculate the entropy for the CL vector:"
   ]
  },
  {
   "cell_type": "code",
   "execution_count": 11,
   "metadata": {
    "jupyter": {
     "outputs_hidden": true
    }
   },
   "outputs": [
    {
     "name": "stdout",
     "output_type": "stream",
     "text": [
      "0.9709505944546686\n"
     ]
    }
   ],
   "source": [
    "p0,p1 = getnumber(data[\"cl\"])\n",
    "print(getEntropy(data[\"cl\"],p0,p1))\n"
   ]
  },
  {
   "cell_type": "markdown",
   "metadata": {},
   "source": [
    "1.5) Finish the below function for calculating a conditional entropy: $H(CL|X) = - \\sum_{x \\in X} \\sum_{y \\in CL} p(x,y) log_2 \\frac{p(x,y)}{p(x)}$. Assume that $log_2(0)$ is equal to 0 and if $p(x) = 0$, $\\frac{p(x,y)}{p(x)}$ is equal to 0 as well."
   ]
  },
  {
   "cell_type": "code",
   "execution_count": 12,
   "metadata": {
    "jupyter": {
     "outputs_hidden": true
    }
   },
   "outputs": [],
   "source": [
    "def getConditionalEntropy(cl, attr):\n",
    "    counter = []\n",
    "    matrix = [[0 for i in range(2)] for i in range(2)]\n",
    "    for clas,attribute in zip(cl.items(),attr.items()):\n",
    "        if clas[1] == 0 and attribute[1] ==0:\n",
    "            matrix[0][0] += 1\n",
    "        if clas[1] == 0 and attribute[1] ==1:\n",
    "            matrix[1][0] +=1\n",
    "        if clas[1] == 1 and attribute[1] ==0:\n",
    "            matrix[0][1] +=1\n",
    "        if clas[1] == 1 and attribute[1] ==1:\n",
    "            matrix[1][1] +=1\n",
    "#     print(matrix)\n",
    "    for i in matrix:\n",
    "#         print(i[0],i[1])\n",
    "        counter.append(getEntropy(sum(i),i[0],i[1]))\n",
    "#     print(counter)\n",
    "    return (sum(matrix[0])/len(cl))*counter[0] + (sum(matrix[1])/len(cl))*counter[1]\n",
    "    "
   ]
  },
  {
   "cell_type": "markdown",
   "metadata": {},
   "source": [
    "1.6 ) Calculate conditional entropies for given attribiutes."
   ]
  },
  {
   "cell_type": "code",
   "execution_count": 13,
   "metadata": {
    "jupyter": {
     "outputs_hidden": true
    }
   },
   "outputs": [
    {
     "name": "stdout",
     "output_type": "stream",
     "text": [
      "0.9509775004326937\n",
      "0.9709505944546686\n"
     ]
    }
   ],
   "source": [
    "print(getConditionalEntropy(data[\"cl\"], data[\"attr 1\"]))\n",
    "print(getConditionalEntropy(data[\"cl\"], data[\"attr 5\"]))"
   ]
  },
  {
   "cell_type": "raw",
   "metadata": {},
   "source": [
    "# 1.7 ) Which entropy is lesser and why?"
   ]
  },
  {
   "cell_type": "markdown",
   "metadata": {},
   "source": [
    "1.8) Finish the below function for calculating information gain:"
   ]
  },
  {
   "cell_type": "code",
   "execution_count": 14,
   "metadata": {
    "jupyter": {
     "outputs_hidden": true
    }
   },
   "outputs": [],
   "source": [
    "def getInformationGain(cl, attr):\n",
    "    p0,p1 = getnumber(cl)\n",
    "    entropy1 = getEntropy(cl,p0,p1)\n",
    "    entropy2 = getConditionalEntropy(cl, attr)\n",
    "    return entropy1 - entropy2"
   ]
  },
  {
   "cell_type": "code",
   "execution_count": 15,
   "metadata": {
    "jupyter": {
     "outputs_hidden": true
    }
   },
   "outputs": [
    {
     "name": "stdout",
     "output_type": "stream",
     "text": [
      "0.01997309402197489\n",
      "0.0\n"
     ]
    }
   ],
   "source": [
    "print(getInformationGain(data[\"cl\"], data[\"attr 1\"]))\n",
    "print(getInformationGain(data[\"cl\"], data[\"attr 5\"]))"
   ]
  },
  {
   "cell_type": "markdown",
   "metadata": {},
   "source": [
    "# Part 2: ID3 algorithm"
   ]
  },
  {
   "cell_type": "markdown",
   "metadata": {},
   "source": [
    "Decision tree consists of decision nodes and leaves. Nodes split data while leaves classify objects. Consider the class \"Node\" provided below. It consists of 4 fields:\n",
    "- attr - attribute ID (use the names in attributeNames vector)\n",
    "- left - left branch, i.e., a reference to other node\n",
    "- right - right branch, i.e., a reference to other node\n",
    "- value - a decision. If node = None, then the node is not a leaf. If value is not None, then a node is considered a leaf. \n",
    "\n",
    "Method __call__ returns the decision if the node is a leaf (i.e., when value is not None). \n",
    "Otherwise, it calls either the left or the right branch of an input object, based on the attribute value (0 -> left children; 1 -> right children). In this way, we can traverse the decision tree in order to find the final decision."
   ]
  },
  {
   "cell_type": "code",
   "execution_count": 42,
   "metadata": {
    "jupyter": {
     "outputs_hidden": true
    }
   },
   "outputs": [
    {
     "name": "stdout",
     "output_type": "stream",
     "text": [
      "3\n",
      "4\n",
      "2\n",
      "2\n"
     ]
    }
   ],
   "source": [
    "class Node:\n",
    "    def __init__(self, attr, left, right, value):\n",
    "        self.attr = attr\n",
    "        self.left = left\n",
    "        self.right = right\n",
    "        self.value = value\n",
    "\n",
    "    def __call__(self, obj):\n",
    "        if self.value is None:\n",
    "            if obj[self.attr] == 0:\n",
    "                return self.left(obj)\n",
    "            else:\n",
    "                return self.right(obj)\n",
    "        else:\n",
    "            return self.value\n",
    "        \n",
    "### EXAMPLE\n",
    "def example(obj):\n",
    "    root = Node(0, None, None, None)\n",
    "    lChildren = Node(1, None, None, None)\n",
    "    rChildren = Node(None, None, None, 2)\n",
    "    root.left = lChildren\n",
    "    root.right = rChildren\n",
    "    llChildren = Node(None, None, None, 3)\n",
    "    rrChildren = Node(None, None, None, 4)\n",
    "    lChildren.left = llChildren\n",
    "    lChildren.right = rrChildren\n",
    "    print(root(obj))\n",
    "    \n",
    "example([0, 0])\n",
    "example([0, 1])\n",
    "example([1, 0])\n",
    "example([1, 1])"
   ]
  },
  {
   "cell_type": "markdown",
   "metadata": {},
   "source": [
    "2.1) Create an initial root. Set the value (decision) to 1. "
   ]
  },
  {
   "cell_type": "code",
   "execution_count": 43,
   "metadata": {},
   "outputs": [],
   "source": [
    "init_root = Node(None,None,None,1)"
   ]
  },
  {
   "cell_type": "markdown",
   "metadata": {},
   "source": [
    "2.2) Use a getErrorRate method in common.py auxiliary file to calculate the error rate. The decision is made based on the majority rule. In case of tie, the method takes 0 as the default class."
   ]
  },
  {
   "cell_type": "code",
   "execution_count": 44,
   "metadata": {},
   "outputs": [
    {
     "data": {
      "text/plain": [
       "0.4"
      ]
     },
     "execution_count": 44,
     "metadata": {},
     "output_type": "execute_result"
    }
   ],
   "source": [
    "cm.getErrorRate(init_root,data)"
   ]
  },
  {
   "cell_type": "markdown",
   "metadata": {},
   "source": [
    "2.3) Use printGraph method (see the common.py file) to draw the decision tree and save it in a png file."
   ]
  },
  {
   "cell_type": "code",
   "execution_count": 45,
   "metadata": {
    "jupyter": {
     "outputs_hidden": true
    }
   },
   "outputs": [],
   "source": [
    "cm.printGraph(init_root)"
   ]
  },
  {
   "cell_type": "markdown",
   "metadata": {},
   "source": [
    "2.4) Calculate information gain for all attribiutes."
   ]
  },
  {
   "cell_type": "code",
   "execution_count": 46,
   "metadata": {
    "jupyter": {
     "outputs_hidden": true
    }
   },
   "outputs": [
    {
     "name": "stdout",
     "output_type": "stream",
     "text": [
      "[0.01997309402197489, 0.0464393446710154, 0.12451124978365313, 0.0912774462416801, 0.0]\n"
     ]
    }
   ],
   "source": [
    "def InfoGain(data,attributes):\n",
    "    infoGain = []\n",
    "    for i in range(len(attributes)):\n",
    "        infoGain.append(getInformationGain(data[\"cl\"], data[attributeNames[i]]))\n",
    "    return infoGain\n",
    "print(InfoGain(data,attributeNames))"
   ]
  },
  {
   "cell_type": "code",
   "execution_count": 47,
   "metadata": {
    "jupyter": {
     "outputs_hidden": true
    }
   },
   "outputs": [],
   "source": [
    "bestattr = InfoGain(data,attributeNames).index(max(InfoGain(data,attributeNames)))\n",
    "init_root = Node(bestattr,None,None,None)\n",
    "left_node = Node(None,None,None,0)\n",
    "right_node = Node(None,None,None,1)\n",
    "init_root.left = left_node\n",
    "init_root.right = right_node"
   ]
  },
  {
   "cell_type": "code",
   "execution_count": 48,
   "metadata": {
    "jupyter": {
     "outputs_hidden": true
    }
   },
   "outputs": [
    {
     "data": {
      "text/plain": [
       "0.30000000000000004"
      ]
     },
     "execution_count": 48,
     "metadata": {},
     "output_type": "execute_result"
    }
   ],
   "source": [
    "cm.printGraph(init_root)\n",
    "cm.getErrorRate(init_root,data)"
   ]
  },
  {
   "cell_type": "code",
   "execution_count": 49,
   "metadata": {
    "jupyter": {
     "outputs_hidden": true
    }
   },
   "outputs": [],
   "source": [
    "left_data = data[data[attributeNames[bestattr]] == 0]\n",
    "right_data = data[data[attributeNames[bestattr]] == 1]"
   ]
  },
  {
   "cell_type": "code",
   "execution_count": 50,
   "metadata": {
    "jupyter": {
     "outputs_hidden": true
    }
   },
   "outputs": [
    {
     "name": "stdout",
     "output_type": "stream",
     "text": [
      "[0.4199730940219749, 0.01997309402197489, 0.0, 0.01997309402197489, 0.0]\n"
     ]
    }
   ],
   "source": [
    "left_gain = InfoGain(left_data,attributeNames)\n",
    "print(left_gain)"
   ]
  },
  {
   "cell_type": "code",
   "execution_count": 51,
   "metadata": {
    "jupyter": {
     "outputs_hidden": true
    }
   },
   "outputs": [],
   "source": [
    "bestattr = left_gain.index(max(left_gain))\n",
    "left_node = Node(bestattr,None,None,None)\n",
    "l_left_node = Node(None,None,None,0)\n",
    "r_left_node = Node(None,None,None,1)\n",
    "left_node.left = l_left_node\n",
    "left_node.right = r_left_node\n",
    "init_root.left = left_node"
   ]
  },
  {
   "cell_type": "code",
   "execution_count": 52,
   "metadata": {
    "jupyter": {
     "outputs_hidden": true
    }
   },
   "outputs": [
    {
     "data": {
      "text/plain": [
       "0.19999999999999996"
      ]
     },
     "execution_count": 52,
     "metadata": {},
     "output_type": "execute_result"
    }
   ],
   "source": [
    "cm.printGraph(init_root)\n",
    "cm.getErrorRate(init_root,data)"
   ]
  },
  {
   "cell_type": "code",
   "execution_count": 53,
   "metadata": {
    "jupyter": {
     "outputs_hidden": true
    }
   },
   "outputs": [],
   "source": [
    "leftLeft_data = left_data[left_data[attributeNames[bestattr]] == 0]\n",
    "leftRight_data = left_data[left_data[attributeNames[bestattr]] == 1]"
   ]
  },
  {
   "cell_type": "code",
   "execution_count": 54,
   "metadata": {
    "jupyter": {
     "outputs_hidden": true
    }
   },
   "outputs": [
    {
     "name": "stdout",
     "output_type": "stream",
     "text": [
      "[0.17095059445466865, 0.17095059445466865, 0.0, 0.7219280948873623, 0.0]\n"
     ]
    }
   ],
   "source": [
    "right_gain = InfoGain(right_data,attributeNames)\n",
    "print(right_gain)"
   ]
  },
  {
   "cell_type": "code",
   "execution_count": 55,
   "metadata": {
    "jupyter": {
     "outputs_hidden": true
    }
   },
   "outputs": [],
   "source": [
    "bestattr = right_gain.index(max(right_gain))\n",
    "right_node = Node(bestattr,None,None,None)\n",
    "l_right_node = Node(None,None,None,0)\n",
    "r_right_node = Node(None,None,None,1)\n",
    "right_node.left = l_right_node\n",
    "right_node.right = r_right_node\n",
    "init_root.right = right_node"
   ]
  },
  {
   "cell_type": "code",
   "execution_count": 56,
   "metadata": {
    "jupyter": {
     "outputs_hidden": true
    }
   },
   "outputs": [
    {
     "data": {
      "text/plain": [
       "0.09999999999999998"
      ]
     },
     "execution_count": 56,
     "metadata": {},
     "output_type": "execute_result"
    }
   ],
   "source": [
    "cm.printGraph(init_root)\n",
    "cm.getErrorRate(init_root,data)"
   ]
  },
  {
   "cell_type": "code",
   "execution_count": 57,
   "metadata": {
    "jupyter": {
     "outputs_hidden": true
    }
   },
   "outputs": [],
   "source": [
    "rightLeft_data = right_data[right_data[attributeNames[bestattr]] == 0]\n",
    "rightRight_data = right_data[right_data[attributeNames[bestattr]] == 1]"
   ]
  },
  {
   "cell_type": "code",
   "execution_count": 58,
   "metadata": {
    "jupyter": {
     "outputs_hidden": true
    }
   },
   "outputs": [
    {
     "name": "stdout",
     "output_type": "stream",
     "text": [
      "[-0.0, 0.0, -0.0, 0.0, -0.0]\n"
     ]
    }
   ],
   "source": [
    "left_left_gain = InfoGain(leftLeft_data,attributeNames)\n",
    "print(left_left_gain)"
   ]
  },
  {
   "cell_type": "code",
   "execution_count": 59,
   "metadata": {
    "jupyter": {
     "outputs_hidden": true
    }
   },
   "outputs": [
    {
     "name": "stdout",
     "output_type": "stream",
     "text": [
      "[0.0, 0.2516291673878229, 0.0, 0.2516291673878229, 0.0]\n"
     ]
    }
   ],
   "source": [
    "left_right_gain = InfoGain(leftRight_data,attributeNames)\n",
    "print(left_right_gain)"
   ]
  },
  {
   "cell_type": "code",
   "execution_count": 60,
   "metadata": {
    "jupyter": {
     "outputs_hidden": true
    }
   },
   "outputs": [],
   "source": [
    "bestattr = left_right_gain.index(max(left_right_gain))\n",
    "l_right_node = Node(bestattr,None,None,None)\n",
    "l_l_right_node = Node(None,None,None,0)\n",
    "r_l_right_node = Node(None,None,None,1)\n",
    "l_right_node.left = l_l_right_node\n",
    "l_right_node.right = r_l_right_node\n",
    "right_node.left = l_right_node\n",
    "init_root.right = right_node"
   ]
  },
  {
   "cell_type": "code",
   "execution_count": 61,
   "metadata": {
    "jupyter": {
     "outputs_hidden": true
    }
   },
   "outputs": [
    {
     "name": "stdout",
     "output_type": "stream",
     "text": [
      "   attr 1  attr 2  attr 3  attr 4  attr 5  cl\n",
      "0       1       0       1       1       1   1\n",
      "1       1       1       0       0       1   1\n",
      "2       0       1       1       1       1   1\n",
      "3       1       0       1       0       1   0\n",
      "4       1       0       0       1       1   0\n",
      "5       0       0       1       1       1   1\n",
      "6       1       1       1       1       1   1\n",
      "7       1       0       0       1       1   1\n",
      "8       0       1       0       0       1   0\n",
      "9       0       0       0       1       1   0\n"
     ]
    },
    {
     "data": {
      "text/plain": [
       "0.09999999999999998"
      ]
     },
     "execution_count": 61,
     "metadata": {},
     "output_type": "execute_result"
    }
   ],
   "source": [
    "print(data)\n",
    "cm.printGraph(init_root)\n",
    "cm.getErrorRate(init_root,data)"
   ]
  },
  {
   "cell_type": "markdown",
   "metadata": {},
   "source": [
    "# Part 3: automated construction of decision trees"
   ]
  },
  {
   "cell_type": "markdown",
   "metadata": {},
   "source": [
    "3.1 Complete the following function for automated construct of decision trees, so that it returns a decision tree for the given data and attribute list. Note that this is a recusive method, i.e., calls itself."
   ]
  },
  {
   "cell_type": "code",
   "execution_count": null,
   "metadata": {
    "collapsed": true,
    "jupyter": {
     "outputs_hidden": true
    }
   },
   "outputs": [],
   "source": [
    "max_depth = 0\n",
    "\n",
    "def createTree(data, attributeNames, depth=0):\n",
    "    data = data.reset_index().drop(\"index\", axis=1)\n",
    "    ### TODO\n",
    "    max_depth = 0\n",
    "def createTree(data,attributeNames, depth=0):# print(data)\n",
    "\n",
    "    data = data.reset_index().drop(\"index\", axis=1)\n",
    "    node_idx = divsions(data[\"cl\"])\n",
    "    lChildren = data[data[attributeNames[node_idx]] == 0 ]\n",
    "    rChildren = data[data[attributeNames[node_idx]] == 1 ]\n",
    "    createTree(left, attributeNames, depth=0)\n",
    "    createTree(right, attributeNames, depth=0)\n",
    "    \n",
    "    init_root = Node(bestattr,None,None,None)\n",
    "    left_node = Node(None,None,None,0)\n",
    "    right_node = Node(None,None,None,1)\n",
    "    init_root.left = left_node\n",
    "    init_root.right = right_node\n",
    "cm.printGraph(init_root)\n",
    "cm.getErrorRate(init_root,data)\n",
    "\n",
    "5\n",
    "#     return left , right\n",
    "\n",
    "createTree(left,attributeNames, depth=0)"
   ]
  },
  {
   "cell_type": "markdown",
   "metadata": {},
   "source": [
    "3.2) Build a decision tree for a training dataset in the common.py auxiliary file, for diffrent values of max_depth.  Calculate & compare the error rates for training and validation datasets."
   ]
  },
  {
   "cell_type": "code",
   "execution_count": null,
   "metadata": {
    "collapsed": true,
    "jupyter": {
     "outputs_hidden": true
    }
   },
   "outputs": [],
   "source": [
    "max_depth = 10"
   ]
  },
  {
   "cell_type": "code",
   "execution_count": null,
   "metadata": {
    "collapsed": true,
    "jupyter": {
     "outputs_hidden": true
    }
   },
   "outputs": [],
   "source": [
    "# Training dataset\n",
    "train_attributeNames, train_data = cm.getTrainingDataSet()\n",
    "### TODO"
   ]
  },
  {
   "cell_type": "code",
   "execution_count": null,
   "metadata": {
    "collapsed": true,
    "jupyter": {
     "outputs_hidden": true
    }
   },
   "outputs": [],
   "source": [
    "# Validation dataset\n",
    "valid_attributesName, valid_data = cm.getValidationDataSet()\n",
    "### TODO"
   ]
  },
  {
   "cell_type": "markdown",
   "metadata": {},
   "source": [
    "3.3) Consider only the training data set and answer the following questions:\n",
    "* What is the miximum depth of the tree (consider only the training data set)?\n",
    "* The tree building process should stop when there is no improvement in error rate (why?). Check for which value of \"max_dept\" there is no improvement in error rate. "
   ]
  },
  {
   "cell_type": "code",
   "execution_count": null,
   "metadata": {
    "collapsed": true,
    "jupyter": {
     "outputs_hidden": true
    }
   },
   "outputs": [],
   "source": [
    "for i in range(10):\n",
    "    max_depth = i\n",
    "    ### TODO"
   ]
  },
  {
   "cell_type": "code",
   "execution_count": null,
   "metadata": {
    "collapsed": true,
    "jupyter": {
     "outputs_hidden": true
    }
   },
   "outputs": [],
   "source": []
  }
 ],
 "metadata": {
  "kernelspec": {
   "display_name": "Python 3",
   "language": "python",
   "name": "python3"
  },
  "language_info": {
   "codemirror_mode": {
    "name": "ipython",
    "version": 3
   },
   "file_extension": ".py",
   "mimetype": "text/x-python",
   "name": "python",
   "nbconvert_exporter": "python",
   "pygments_lexer": "ipython3",
   "version": "3.6.9"
  },
  "toc-autonumbering": false,
  "toc-showcode": false,
  "toc-showmarkdowntxt": true
 },
 "nbformat": 4,
 "nbformat_minor": 4
}
